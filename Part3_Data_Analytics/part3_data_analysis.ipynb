{
 "cells": [
  {
   "cell_type": "code",
   "execution_count": null,
   "metadata": {
    "vscode": {
     "languageId": "plaintext"
    }
   },
   "outputs": [],
   "source": [
    "import pandas as pd\n",
    "import json\n",
    "\n",
    "df = pd.read_csv('s3://your-s3-bucket/bls-data/pr.data.0.Current', delim_whitespace=True)\n",
    "df['value'] = pd.to_numeric(df['value'], errors='coerce')\n",
    "\n",
    "with open('us-population.json') as f:\n",
    "    raw = json.load(f)\n",
    "\n",
    "headers, *rows = raw\n",
    "pop_df = pd.DataFrame(rows, columns=headers)\n",
    "pop_df['POP'] = pop_df['POP'].astype(int)\n",
    "pop_df['time'] = pop_df['time'].astype(int)\n",
    "\n",
    "subset_pop = pop_df[pop_df['time'].between(2013, 2018)]\n",
    "print(\"Mean:\", subset_pop['POP'].mean())\n",
    "print(\"Std Dev:\", subset_pop['POP'].std())\n",
    "\n",
    "df = df[df['period'].str.startswith('Q')]\n",
    "df_grouped = df.groupby(['series_id', 'year'])['value'].sum().reset_index()\n",
    "best_years = df_grouped.loc[df_grouped.groupby('series_id')['value'].idxmax()]\n",
    "print(best_years)\n",
    "\n",
    "filtered = df[(df['series_id'] == 'PRS30006032') & (df['period'] == 'Q01')]\n",
    "filtered['year'] = filtered['year'].astype(int)\n",
    "joined = filtered.merge(pop_df, left_on='year', right_on='time', how='left')\n",
    "joined = joined[['series_id', 'year', 'period', 'value', 'POP']].rename(columns={'POP': 'Population'})\n",
    "print(joined)"
   ]
  }
 ],
 "metadata": {
  "language_info": {
   "name": "python"
  }
 },
 "nbformat": 4,
 "nbformat_minor": 2
}
